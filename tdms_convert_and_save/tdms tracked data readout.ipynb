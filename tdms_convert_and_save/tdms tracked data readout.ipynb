{
 "cells": [
  {
   "cell_type": "markdown",
   "metadata": {},
   "source": [
    "# here i try to read out the keept labview tracking data\n",
    "\n",
    "based on code Santiago gave me a while ago"
   ]
  },
  {
   "cell_type": "code",
   "execution_count": 5,
   "metadata": {
    "collapsed": false
   },
   "outputs": [
    {
     "name": "stderr",
     "output_type": "stream",
     "text": [
      "C:\\Program Files\\Anaconda3\\lib\\site-packages\\matplotlib\\__init__.py:1405: UserWarning: \n",
      "This call to matplotlib.use() has no effect because the backend has already\n",
      "been chosen; matplotlib.use() must be called *before* pylab, matplotlib.pyplot,\n",
      "or matplotlib.backends is imported for the first time.\n",
      "\n",
      "  warnings.warn(_use_error_msg)\n"
     ]
    }
   ],
   "source": [
    "import numpy as np\n",
    "import matplotlib\n",
    "matplotlib.use(\"agg\")\n",
    "import matplotlib.pyplot as plt\n",
    "%matplotlib inline\n",
    "import matplotlib.animation as animation\n",
    "\n",
    "import fnmatch\n",
    "import os\n",
    "\n",
    "from IPython.display import clear_output\n",
    "\n",
    "from nptdms import TdmsFile # this library contains the actual TDMS loading parts\n",
    "#from ipywidgets import interact"
   ]
  },
  {
   "cell_type": "code",
   "execution_count": 6,
   "metadata": {
    "collapsed": true
   },
   "outputs": [],
   "source": [
    "wdir = '.' # set the open file dialog directory to the notebook directory\n",
    "def openFileDialog(wdir):\n",
    "    from PyQt5.QtWidgets import QApplication,QFileDialog\n",
    "    app = QApplication([dir])\n",
    "    files = QFileDialog.getOpenFileNames(None, \"Select Files...\", wdir, filter=\"All Files (*)\")\n",
    "    return files[0]\n",
    "\n",
    "def loadTDMS(file):\n",
    "    global exposure, dimx, dimy\n",
    "    tdms_file = TdmsFile(file)\n",
    "    p=tdms_file.object().properties   \n",
    "    dimx=int(p['dimx'])  \n",
    "    dimy=int(p['dimy'])\n",
    "    \n",
    "    frames=int(p['dimz'])\n",
    "    exposure=float(p['exposure'])\n",
    "    images=tdms_file.channel_data('Image','Image')\n",
    "    #print('frames',frames)\n",
    "    #print('dimx',dimx)\n",
    "    #print('dimx_2',int(np.sqrt(len(images)/frames)))\n",
    "    if dimx ==1:\n",
    "        dimx = int(np.sqrt(len(images)/frames))\n",
    "        dimy = dimx\n",
    "    \n",
    "    return images.reshape(frames,dimx,dimy)"
   ]
  },
  {
   "cell_type": "code",
   "execution_count": null,
   "metadata": {
    "collapsed": true
   },
   "outputs": [],
   "source": [
    "######### ohter binsizes dont work yet!!!!\n",
    "from copy import deepcopy\n",
    "all_files = openFileDialog(wdir)\n",
    "files = []\n",
    "for file in all_files: # make the relevant file list\n",
    "    if fnmatch.fnmatch(file,'*_movie.tdms'):\n",
    "        files.append(file)\n",
    "for file_number in range(len(files)):\n",
    "    file = files[file_number]\n",
    "    print(file)\n",
    "    images = np.zeros(0)\n",
    "    if fnmatch.fnmatch(file,'*_movie.tdms'):\n",
    "        images = loadTDMS(file)\n",
    "        #wdir=os.path.dirname(files[0])  # set the open file dialog directory to the working directory\n",
    "        ffmpegWriter = animation.writers['ffmpeg']\n",
    "        writer = ffmpegWriter(fps=1./exposure) # + \".mp4\"\n",
    "        fig = plt.figure(figsize=(5, 5), dpi=100)\n",
    "        fig.subplots_adjust(left=0, bottom=0, right=1, top=1, wspace=None, hspace=None)\n",
    "        \n",
    "        #images = np.log(images) #for a log scale\n",
    "        im = plt.imshow(images[0], cmap='gray') # vmax=...  ,vmin = 100,vmax = 200\n",
    "        plt.axis('off')\n",
    "        #plt.colorbar() # does not look good...\n",
    "        #break\n",
    "        with writer.saving(fig, file + \".mp4\",dpi = 100):\n",
    "            for i in range(images.shape[0]):\n",
    "                im.set_data(images[i])\n",
    "                writer.grab_frame()\n",
    "                if (i % 10 == 0):\n",
    "                    clear_output(wait=True)\n",
    "                    print('Progress1: File ',int(file_number)+1,' of ',int(len(files)))\n",
    "                    print('Progress2:', int(i/images.shape[0]*100), '%')"
   ]
  },
  {
   "cell_type": "code",
   "execution_count": 96,
   "metadata": {
    "collapsed": false
   },
   "outputs": [
    {
     "data": {
      "image/png": "[encoded data removed]",
      "text/plain": [
       "<matplotlib.figure.Figure at 0x1d58002b6a0>"
      ]
     },
     "metadata": {},
     "output_type": "display_data"
    }
   ],
   "source": [
    "######### ohter binsizes dont work yet!!!!\n",
    "from copy import deepcopy\n",
    "all_files = openFileDialog(wdir)\n",
    "files = []\n",
    "for file in all_files: # make the relevant file list\n",
    "    #if fnmatch.fnmatch(file,'*_movie.tdms'):\n",
    "    if True:\n",
    "        files.append(file)\n",
    "for file_number in range(len(files)):\n",
    "    file = files[file_number]\n",
    "    print(file)\n",
    "    #if fnmatch.fnmatch(file,'*_movie.tdms'):\n",
    "    if True:\n",
    "        #images = loadTDMS(file)\n",
    "        k =1\n",
    "        tdms_file = TdmsFile(file)\n",
    "        print('checkpoint theta')\n",
    "        temp = 'cx'+ str(k)\n",
    "        temp2 = 'cy'+ str(k)\n",
    "        temp3 = 'action' + str(k)\n",
    "        vars()[temp] = []\n",
    "        vars()[temp2] =[]\n",
    "        vars()[temp3] =[]\n",
    "        #try:\n",
    "        #    tdms_file = TdmsFile('C:/Users/Phobos/Documents/Santiago/Medidas/RL/04052017/Python/1_5mili_'+str(k)+'_TH.tdms')\n",
    "        #except:\n",
    "        #    pass\n",
    "        file_info =tdms_file.object()\n",
    "\n",
    "        a = file_info.properties\n",
    " \n",
    "        xcoord = tdms_file.channel_data('PN','Xc')\n",
    "        ycoord = tdms_file.channel_data('PN','Yc')\n",
    "        action = tdms_file.channel_data('PN','Xh')\n",
    "        x1 = tdms_file.channel_data('PN','Xh')\n",
    "        y1 = tdms_file.channel_data('PN','Yh')\n",
    "        PN1 = tdms_file.channel_data('PN','N')\n",
    "        print(type(x1))\n",
    "        top = xcoord.shape[0]\n",
    "\n",
    "        for i in range(top):\n",
    "            if(xcoord[i] !=0 and ycoord[i] !=0):\n",
    "                vars()[temp].append(xcoord[i]*0.05647)\n",
    "                vars()[temp2].append(ycoord[i]*0.05647)\n",
    "                vars()[temp3].append(action[i])\n",
    "        np.savetxt('cx'+'.txt',vars()[temp],delimiter=',')\n",
    "        np.savetxt('cy'+'.txt',vars()[temp2],delimiter=',')\n",
    "        np.savetxt('action'+'.txt',vars()[temp3],delimiter=',')\n",
    "        print('checkpoint simga')\n",
    "\n",
    "x = np.loadtxt('cx'+'.txt')\n",
    "y = np.loadtxt('cy'+'.txt')\n",
    "a = np.loadtxt('action'+'.txt')\n",
    "\n",
    "    \n",
    "\n",
    "coX = np.loadtxt('cx'+'.txt')\n",
    "coY = np.loadtxt('cy'+'.txt')\n",
    "plt.plot(coX,coY)\n",
    "plt.xticks(range(0,31,6))\n",
    "plt.yticks(range(0,31,6))\n",
    "plt.ylim([0,30])\n",
    "plt.xlim([0,30])\n",
    "plt.xlabel('x [µm]', fontsize=16)\n",
    "plt.ylabel('y [µm]',fontsize=16)\n",
    "plt.tick_params(labelsize=14)\n",
    "plt.rc('figure',  figsize=(4, 4))\n",
    "fig=plt.figure(1, figsize = (20,5) )\n",
    "ax=fig.gca()\n",
    "ax.grid()\n",
    "plt.tight_layout()\n",
    "\n",
    "\n",
    "        "
   ]
  },
  {
   "cell_type": "code",
   "execution_count": 95,
   "metadata": {
    "collapsed": false
   },
   "outputs": [
    {
     "data": {
      "image/png": "[encoded data removed]",
      "text/plain": [
       "<matplotlib.figure.Figure at 0x1d5f2609e10>"
      ]
     },
     "metadata": {},
     "output_type": "display_data"
    }
   ],
   "source": [
    "plt.figure(figsize=(15,15))\n",
    "plt.plot(coX,coY,alpha = 0.5)\n",
    "plt.plot(x1*0.05647,y1*0.05647,alpha = 0.5)\n",
    "plt.xticks(range(0,31,6))\n",
    "plt.yticks(range(0,31,6))\n",
    "plt.ylim([-1,30])\n",
    "plt.xlim([-1,30])\n",
    "plt.xlabel('x [µm]', fontsize=16)\n",
    "plt.ylabel('y [µm]',fontsize=16)\n",
    "plt.tick_params(labelsize=14)\n",
    "plt.rc('figure',  figsize=(10, 10))\n",
    "\n",
    "#plt.tight_layout()\n",
    "\n",
    "        "
   ]
  },
  {
   "cell_type": "code",
   "execution_count": 86,
   "metadata": {
    "collapsed": false
   },
   "outputs": [
    {
     "data": {
      "text/plain": [
       "array([   0.        ,    0.        ,    0.        ,    0.        ,\n",
       "          0.        ,    0.        ,    0.        ,    0.        ,\n",
       "          0.        ,    0.        ,    0.        ,    0.        ,\n",
       "          0.        ,    0.        ,    0.        ,    0.        ,\n",
       "          0.        ,   97.69444444,    0.        ,    0.        ,\n",
       "          0.        ,    0.        ,    0.        ,    0.        ,\n",
       "          0.        ,    0.        ,    0.        ,    0.        ,\n",
       "         96.10569106,   96.26694915,   95.46724891,   94.12173913,\n",
       "         93.19130435,   94.9137931 ,   99.46521739,  101.28699552,\n",
       "        102.21276596,  102.83817427,  103.6419214 ,  104.52      ,\n",
       "        105.56306306,  108.05150215,  108.86206897,  109.23181818,\n",
       "        111.75115207,  112.83333333,  113.25728155,  115.47089947,\n",
       "        117.10810811,  119.54404145,  121.65517241,  123.        ,\n",
       "        124.57377049,  126.97894737,  127.75806452,  129.09497207,\n",
       "        130.63783784,  132.15384615,  133.18131868,  134.22222222,\n",
       "        135.80110497,  138.41618497,  140.0591716 ,  140.91071429,\n",
       "        140.91071429,  140.91071429,    0.        ,    0.        ,\n",
       "          0.        ,    0.        ,    0.        ,    0.        ,\n",
       "          0.        ,    0.        ,    0.        ,    0.        ,\n",
       "          0.        ,    0.        ,    0.        ,    0.        ,\n",
       "          0.        ,    0.        ,    0.        ,    0.        ,\n",
       "          0.        ,    0.        ,    0.        ,    0.        ,\n",
       "          0.        ,    0.        ,    0.        ,    0.        ,\n",
       "          0.        ,    0.        ,    0.        ,  109.78222222,\n",
       "          0.        ,    0.        ,    0.        ,    0.        ,\n",
       "          0.        ,    0.        ,    0.        ,    0.        ,\n",
       "          0.        ,    0.        ,    0.        ,    0.        ,\n",
       "          0.        ,    0.        ,    0.        ,    0.        ,\n",
       "          0.        ,    0.        ,    0.        ,    0.        ,\n",
       "          0.        ,    0.        ,    0.        ,    0.        ,\n",
       "          0.        ,    0.        ,    0.        ,    0.        ,\n",
       "          0.        ,  111.        ,    0.        ,    0.        ,\n",
       "          0.        ,    0.        ,    0.        ,    0.        ,\n",
       "          0.        ,    0.        ,    0.        ,  109.82653061,\n",
       "          0.        ,    0.        ,    0.        ,    0.        ,\n",
       "          0.        ,    0.        ,    0.        ,    0.        ,\n",
       "        113.77459016,  113.74166667,    0.        ,  115.96385542,\n",
       "        117.664     ,  118.92828685,  120.50409836,  121.96581197,\n",
       "        123.42358079,  124.47393365,  127.06467662,  129.25263158,\n",
       "        129.13846154,  129.04278075,  130.72192513,  130.95108696,\n",
       "          0.        ,    0.        ,    0.        ,    0.        ,\n",
       "          0.        ,    0.        ,    0.        ,    0.        ,\n",
       "        125.40298507,    0.        ,    0.        ,    0.        ,\n",
       "          0.        ,    0.        ,    0.        ,    0.        ,\n",
       "        126.88387097,    0.        ,    0.        ,    0.        ,\n",
       "        129.79041916,  130.02312139,  132.34782609,  132.34782609,\n",
       "        132.34782609,  132.34782609,  132.34782609,  132.34782609,\n",
       "        132.34782609,  132.34782609,  132.34782609,  132.34782609,\n",
       "        132.34782609,  132.34782609,    0.        ,    0.        ,\n",
       "          0.        ,    0.        ,    0.        ,    0.        ,\n",
       "          0.        ,    0.        ,    0.        ,    0.        ,\n",
       "          0.        ,    0.        ,    0.        ,    0.        ,\n",
       "          0.        ,    0.        ,    0.        ,    0.        ,\n",
       "          0.        ,    0.        ,    0.        ,    0.        ,\n",
       "          0.        ,    0.        ,    0.        ,    0.        ,\n",
       "          0.        ,    0.        ,    0.        ,    0.        ,\n",
       "          0.        ,    0.        ,    0.        ,    0.        ,\n",
       "          0.        ,    0.        ,    0.        ,    0.        ,\n",
       "          0.        ,    0.        ,    0.        ,    0.        ,\n",
       "          0.        ,    0.        ,    0.        ,    0.        ,\n",
       "          0.        ,    0.        ,    0.        ,    0.        ,\n",
       "          0.        ,    0.        ,    0.        ,    0.        ,\n",
       "          0.        ,    0.        ,    0.        ,    0.        ,\n",
       "          0.        ,    0.        ,    0.        ,    0.        ,\n",
       "          0.        ,    0.        ,    0.        ,    0.        ,\n",
       "          0.        ,    0.        ,    0.        ,    0.        ,\n",
       "          0.        ,    0.        ,    0.        ,    0.        ,\n",
       "          0.        ,    0.        ,    0.        ,    0.        ,\n",
       "          0.        ,    0.        ,    0.        ,    0.        ,\n",
       "          0.        ,    0.        ,    0.        ,    0.        ,\n",
       "          0.        ,    0.        ,    0.        ,    0.        ,\n",
       "          0.        ,    0.        ,    0.        ,    0.        ,\n",
       "          0.        ,    0.        ,    0.        ,    0.        ,\n",
       "          0.        ,    0.        ,    0.        ,    0.        ,\n",
       "          0.        ,    0.        ,    0.        ,    0.        ,\n",
       "          0.        ,    0.        ,    0.        ,    0.        ,\n",
       "          0.        ,    0.        ,    0.        ,    0.        ,\n",
       "          0.        ,    0.        ,    0.        ,    0.        ,\n",
       "          0.        ,    0.        ,    0.        ,    0.        ,\n",
       "          0.        ,    0.        ,    0.        ,    0.        ,\n",
       "          0.        ,    0.        ,    0.        ,    0.        ,\n",
       "          0.        ,    0.        ,    0.        ,    0.        ,\n",
       "          0.        ,    0.        ,    0.        ,    0.        ,\n",
       "          0.        ,    0.        ,    0.        ,    0.        ,\n",
       "          0.        ,    0.        ,    0.        ,    0.        ,\n",
       "          0.        ,    0.        ,    0.        ,    0.        ,\n",
       "          0.        ,    0.        ,    0.        ,    0.        ,\n",
       "          0.        ,    0.        ,    0.        ,    0.        ,\n",
       "          0.        ,    0.        ,    0.        ,    0.        ,\n",
       "          0.        ,    0.        ,    0.        ,    0.        ,\n",
       "          0.        ,    0.        ,    0.        ,    0.        ,\n",
       "          0.        ,    0.        ,    0.        ,    0.        ,\n",
       "          0.        ,    0.        ,    0.        ,    0.        ,\n",
       "          0.        ,    0.        ,    0.        ,    0.        ,\n",
       "          0.        ,    0.        ,    0.        ,    0.        ,\n",
       "          0.        ,    0.        ,    0.        ,    0.        ,\n",
       "          0.        ,    0.        ,    0.        ,    0.        ,\n",
       "          0.        ,    0.        ,    0.        ,    0.        ,\n",
       "          0.        ,    0.        ,    0.        ,    0.        ,\n",
       "          0.        ,    0.        ,    0.        ,    0.        ,\n",
       "          0.        ,    0.        ,    0.        ,    0.        ,\n",
       "          0.        ,    0.        ,    0.        ,    0.        ,\n",
       "          0.        ,    0.        ,    0.        ,    0.        ,\n",
       "          0.        ,    0.        ,    0.        ,    0.        ,\n",
       "          0.        ,    0.        ,    0.        ,    0.        ,\n",
       "          0.        ,    0.        ,    0.        ,    0.        ,\n",
       "          0.        ,    0.        ,    0.        ,    0.        ,\n",
       "          0.        ,    0.        ,    0.        ,    0.        ,\n",
       "          0.        ,    0.        ,    0.        ,    0.        ,\n",
       "          0.        ,    0.        ,    0.        ,    0.        ,\n",
       "          0.        ,    0.        ,    0.        ,    0.        ,\n",
       "          0.        ,    0.        ,    0.        ,    0.        ,\n",
       "          0.        ,    0.        ,    0.        ,    0.        ,\n",
       "          0.        ,    0.        ,    0.        ,    0.        ,\n",
       "          0.        ,    0.        ,    0.        ,    0.        ,\n",
       "          0.        ,    0.        ,    0.        ,    0.        ,\n",
       "          0.        ,    0.        ,    0.        ,    0.        ,\n",
       "          0.        ,    0.        ,    0.        ,    0.        ,\n",
       "          0.        ,    0.        ,    0.        ,    0.        ,\n",
       "          0.        ,    0.        ,    0.        ,    0.        ,\n",
       "          0.        ,    0.        ,    0.        ,    0.        ,\n",
       "          0.        ,    0.        ,    0.        ,    0.        ,\n",
       "          0.        ,    0.        ,    0.        ,    0.        ,\n",
       "          0.        ,    0.        ,    0.        ,    0.        ,\n",
       "          0.        ,    0.        ,    0.        ,    0.        ])"
      ]
     },
     "execution_count": 86,
     "metadata": {},
     "output_type": "execute_result"
    }
   ],
   "source": [
    "x1"
   ]
  },
  {
   "cell_type": "code",
   "execution_count": 50,
   "metadata": {
    "collapsed": false
   },
   "outputs": [],
   "source": [
    "images=tdms_file.channel_data?"
   ]
  },
  {
   "cell_type": "code",
   "execution_count": null,
   "metadata": {
    "collapsed": true
   },
   "outputs": [],
   "source": [
    "images=tdms_file.channel_data"
   ]
  },
  {
   "cell_type": "code",
   "execution_count": 67,
   "metadata": {
    "collapsed": false
   },
   "outputs": [
    {
     "data": {
      "text/plain": [
       "OrderedDict([('/', <TdmsObject with path />),\n",
       "             (\"/'PN'\", <TdmsObject with path /'PN'>),\n",
       "             (\"/'PN'/'Xc'\", <TdmsObject with path /'PN'/'Xc'>),\n",
       "             (\"/'PN'/'Yc'\", <TdmsObject with path /'PN'/'Yc'>),\n",
       "             (\"/'PN'/'Xh'\", <TdmsObject with path /'PN'/'Xh'>),\n",
       "             (\"/'PN'/'Yh'\", <TdmsObject with path /'PN'/'Yh'>),\n",
       "             (\"/'PN'/'N'\", <TdmsObject with path /'PN'/'N'>)])"
      ]
     },
     "execution_count": 67,
     "metadata": {},
     "output_type": "execute_result"
    }
   ],
   "source": [
    "tdms_file.objects"
   ]
  },
  {
   "cell_type": "code",
   "execution_count": 54,
   "metadata": {
    "collapsed": false
   },
   "outputs": [
    {
     "ename": "KeyError",
     "evalue": "\"Invalid object path: /'group_name'\"",
     "output_type": "error",
     "traceback": [
      "\u001b[0;31m---------------------------------------------------------------------------\u001b[0m",
      "\u001b[0;31mKeyError\u001b[0m                                  Traceback (most recent call last)",
      "\u001b[0;32mC:\\Program Files\\Anaconda3\\lib\\site-packages\\nptdms\\tdms.py\u001b[0m in \u001b[0;36mobject\u001b[0;34m(self, *path)\u001b[0m\n\u001b[1;32m    154\u001b[0m         \u001b[1;32mtry\u001b[0m\u001b[1;33m:\u001b[0m\u001b[1;33m\u001b[0m\u001b[0m\n\u001b[0;32m--> 155\u001b[0;31m             \u001b[1;32mreturn\u001b[0m \u001b[0mself\u001b[0m\u001b[1;33m.\u001b[0m\u001b[0mobjects\u001b[0m\u001b[1;33m[\u001b[0m\u001b[0mobject_path\u001b[0m\u001b[1;33m]\u001b[0m\u001b[1;33m\u001b[0m\u001b[0m\n\u001b[0m\u001b[1;32m    156\u001b[0m         \u001b[1;32mexcept\u001b[0m \u001b[0mKeyError\u001b[0m\u001b[1;33m:\u001b[0m\u001b[1;33m\u001b[0m\u001b[0m\n",
      "\u001b[0;31mKeyError\u001b[0m: \"/'group_name'\"",
      "\nDuring handling of the above exception, another exception occurred:\n",
      "\u001b[0;31mKeyError\u001b[0m                                  Traceback (most recent call last)",
      "\u001b[0;32m<ipython-input-54-a81e26f224a8>\u001b[0m in \u001b[0;36m<module>\u001b[0;34m()\u001b[0m\n\u001b[0;32m----> 1\u001b[0;31m \u001b[0mtdms_file\u001b[0m\u001b[1;33m.\u001b[0m\u001b[0mobject\u001b[0m\u001b[1;33m(\u001b[0m\u001b[1;34m'group_name'\u001b[0m\u001b[1;33m)\u001b[0m\u001b[1;33m\u001b[0m\u001b[0m\n\u001b[0m",
      "\u001b[0;32mC:\\Program Files\\Anaconda3\\lib\\site-packages\\nptdms\\tdms.py\u001b[0m in \u001b[0;36mobject\u001b[0;34m(self, *path)\u001b[0m\n\u001b[1;32m    155\u001b[0m             \u001b[1;32mreturn\u001b[0m \u001b[0mself\u001b[0m\u001b[1;33m.\u001b[0m\u001b[0mobjects\u001b[0m\u001b[1;33m[\u001b[0m\u001b[0mobject_path\u001b[0m\u001b[1;33m]\u001b[0m\u001b[1;33m\u001b[0m\u001b[0m\n\u001b[1;32m    156\u001b[0m         \u001b[1;32mexcept\u001b[0m \u001b[0mKeyError\u001b[0m\u001b[1;33m:\u001b[0m\u001b[1;33m\u001b[0m\u001b[0m\n\u001b[0;32m--> 157\u001b[0;31m             \u001b[1;32mraise\u001b[0m \u001b[0mKeyError\u001b[0m\u001b[1;33m(\u001b[0m\u001b[1;34m\"Invalid object path: %s\"\u001b[0m \u001b[1;33m%\u001b[0m \u001b[0mobject_path\u001b[0m\u001b[1;33m)\u001b[0m\u001b[1;33m\u001b[0m\u001b[0m\n\u001b[0m\u001b[1;32m    158\u001b[0m \u001b[1;33m\u001b[0m\u001b[0m\n\u001b[1;32m    159\u001b[0m     \u001b[1;32mdef\u001b[0m \u001b[0mgroups\u001b[0m\u001b[1;33m(\u001b[0m\u001b[0mself\u001b[0m\u001b[1;33m)\u001b[0m\u001b[1;33m:\u001b[0m\u001b[1;33m\u001b[0m\u001b[0m\n",
      "\u001b[0;31mKeyError\u001b[0m: \"Invalid object path: /'group_name'\""
     ]
    }
   ],
   "source": [
    "tdms_file.object('group_name')"
   ]
  },
  {
   "cell_type": "code",
   "execution_count": null,
   "metadata": {
    "collapsed": true
   },
   "outputs": [],
   "source": [
    "\n",
    "import numpy as np\n",
    "import cv2\n",
    "import os\n",
    "import os.path\n",
    "\n",
    "numfiles=[]\n",
    "for i in range(1,50):\n",
    "    path = 'C:/Users/Phobos/Documents/Santiago/Medidas/RL/04052017/PeDependence/1_5mili/'+str(i)\n",
    "    num_files = len([f for f in os.listdir(path)if os.path.isfile(os.path.join(path, f))])\n",
    "    numfiles.append(num_files)\n",
    "\n",
    "v =[]\n",
    "for k in range(1,10):\n",
    "    n = numfiles[k]\n",
    "    for i in range(n):\n",
    "        p = 'C:/Users/Phobos/Documents/Santiago/Medidas/RL/04052017/PeDependence/1_5mili/'+str(k)+'/m'+str(k)+'Grid'+str(i)+'.png'\n",
    "       # print (p)\n",
    "        img =cv2.imread(p)\n",
    "        #img = cv2.imread('C:/Users/Phobos/Documents/Santiago/Medidas/RL/04052017/PeDependence/1_5mili/'+str(k)+'/m'+str(k)+'Grid'+str(i)+'.png')\n",
    "        #height, width,layers = img.shape\n",
    "        v.append(img)\n",
    "        \n",
    "    video = cv2.VideoWriter('C:/Users/Phobos/Documents/Santiago/Medidas/RL/04052017/PeDependence/1_5mili/'+str(k)+'/m'+str(k)+'Grid.avi',cv2.VideoWriter_fourcc(*'MJPG'),33,(512,512))\n",
    "                         \n",
    "    for i in range(n):   \n",
    "        video.write(v[i])\n",
    "    cv2.destroyAllWindows()\n",
    "    video.release()\n",
    "\n",
    "####################################################################\n",
    "#####################################################################\n",
    "\n",
    "\n",
    "for k in range (108,158,1): \n",
    "    temp = 'cx'+ str(k)\n",
    "    temp2 = 'cy'+ str(k)\n",
    "    temp3 = 'action' + str(k)\n",
    "    vars()[temp] = []\n",
    "    vars()[temp2] =[]\n",
    "    vars()[temp3] =[]\n",
    "    try:\n",
    "        tdms_file = TdmsFile('C:/Users/Phobos/Documents/Santiago/Medidas/RL/04052017/Python/1_5mili_'+str(k)+'_TH.tdms')\n",
    "    except:\n",
    "        pass\n",
    "    file_info =tdms_file.object()\n",
    "\n",
    "    a = file_info.properties\n",
    "    xcoord = tdms_file.channel_data('LN','xc')\n",
    "    ycoord = tdms_file.channel_data('LN','yc')\n",
    "    action = tdms_file.channel_data('LN','action')\n",
    "\n",
    "    top = xcoord.shape[0]\n",
    "\n",
    "    for i in range(top):\n",
    "        if(xcoord[i] !=0 and ycoord[i] !=0):\n",
    "            vars()[temp].append(xcoord[i]*0.05647)\n",
    "            vars()[temp2].append(ycoord[i]*0.05647)\n",
    "            vars()[temp3].append(action[i])\n",
    "    np.savetxt('cx'+str(k-108)+'1_5mili.txt',vars()[temp],delimiter=',')\n",
    "    np.savetxt('cy'+str(k-108)+'1_5mili.txt',vars()[temp2],delimiter=',')\n",
    "    np.savetxt('action'+str(k-108)+'1_5mili.txt',vars()[temp3],delimiter=',')\n",
    "\n",
    "c = 0\n",
    "for i in range(49):\n",
    "    x = np.loadtxt('cx'+ str(i)+'1_5mili.txt')\n",
    "    y = np.loadtxt('cy'+ str(i)+'1_5mili.txt')\n",
    "    a = np.loadtxt('action'+ str(i)+'1_5mili.txt')\n",
    "    if(len(x)== len(y) == len(a)):\n",
    "        c = c+1\n",
    "print(c)    \n",
    "\n",
    "for i in range (49): \n",
    "    coX = np.loadtxt('cx'+ str(i)+'1_5mili.txt')\n",
    "    coY = np.loadtxt('cy'+ str(i)+'1_5mili.txt')\n",
    "    plt.plot(coX,coY)\n",
    "    plt.xticks(range(0,31,6))\n",
    "    plt.yticks(range(0,31,6))\n",
    "    plt.ylim([0,30])\n",
    "    plt.xlim([0,30])\n",
    "    plt.xlabel('x [µm]', fontsize=16)\n",
    "    plt.ylabel('y [µm]',fontsize=16)\n",
    "    plt.tick_params(labelsize=14)\n",
    "    plt.rc('figure',  figsize=(4, 4))\n",
    "    \n",
    "    fig=plt.figure(1, figsize = (20,5) )\n",
    "    ax=fig.gca()\n",
    "    ax.grid()\n",
    "    \n",
    "    plt.tight_layout()\n",
    "##########################################################\n",
    "###########################################################\n",
    "\n",
    "\n",
    "\n"
   ]
  },
  {
   "cell_type": "code",
   "execution_count": 1,
   "metadata": {
    "collapsed": true
   },
   "outputs": [],
   "source": [
    "vars?"
   ]
  },
  {
   "cell_type": "code",
   "execution_count": 4,
   "metadata": {
    "collapsed": false
   },
   "outputs": [],
   "source": [
    "TdmsFile?"
   ]
  },
  {
   "cell_type": "code",
   "execution_count": null,
   "metadata": {
    "collapsed": true
   },
   "outputs": [],
   "source": []
  }
 ],
 "metadata": {
  "anaconda-cloud": {},
  "kernelspec": {
   "display_name": "Python [conda root]",
   "language": "python",
   "name": "conda-root-py"
  },
  "language_info": {
   "codemirror_mode": {
    "name": "ipython",
    "version": 3
   },
   "file_extension": ".py",
   "mimetype": "text/x-python",
   "name": "python",
   "nbconvert_exporter": "python",
   "pygments_lexer": "ipython3",
   "version": "3.5.2"
  }
 },
 "nbformat": 4,
 "nbformat_minor": 1
}
